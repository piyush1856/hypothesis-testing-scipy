{
  "nbformat": 4,
  "nbformat_minor": 0,
  "metadata": {
    "colab": {
      "provenance": [],
      "authorship_tag": "ABX9TyMovGzDQZhMNJqQbYRZXYFr",
      "include_colab_link": true
    },
    "kernelspec": {
      "name": "python3",
      "display_name": "Python 3"
    },
    "language_info": {
      "name": "python"
    }
  },
  "cells": [
    {
      "cell_type": "markdown",
      "metadata": {
        "id": "view-in-github",
        "colab_type": "text"
      },
      "source": [
        "<a href=\"https://colab.research.google.com/github/piyush1856/hypothesis-testing-scipy/blob/main/hypothesis_testing_z_test.ipynb\" target=\"_parent\"><img src=\"https://colab.research.google.com/assets/colab-badge.svg\" alt=\"Open In Colab\"/></a>"
      ]
    },
    {
      "cell_type": "markdown",
      "source": [
        "# **Z-TEST**"
      ],
      "metadata": {
        "id": "rrGyNYADybgH"
      }
    },
    {
      "cell_type": "code",
      "source": [
        "import scipy.stats as stats\n",
        "import numpy as np\n",
        "import math\n",
        "from statsmodels.stats import weightstats as stests\n",
        "import statsmodels.api as sm"
      ],
      "metadata": {
        "id": "4ygyCUS_tieh"
      },
      "execution_count": null,
      "outputs": []
    },
    {
      "cell_type": "code",
      "execution_count": null,
      "metadata": {
        "colab": {
          "base_uri": "https://localhost:8080/"
        },
        "id": "uz6-I502NgN9",
        "outputId": "e870835b-a352-4686-9803-3295264669c8"
      },
      "outputs": [
        {
          "output_type": "stream",
          "name": "stdout",
          "text": [
            "Fail to reject the null hypothesis. No significant evidence that people from the state are shorter.\n",
            "Z-score: -0.8944271909999159\n",
            "P-value: 0.18554668476134878\n"
          ]
        }
      ],
      "source": [
        "# Population parameters\n",
        "population_mean = 65  # Population average height\n",
        "population_stddev = 2.5  # Population standard deviation\n",
        "\n",
        "# Sample statistics\n",
        "sample_mean = 64.5\n",
        "sample_size = 20 # Average of 20 people\n",
        "\n",
        "# Calculate the standard error of the sample mean\n",
        "standard_error = population_stddev / (sample_size ** 0.5)\n",
        "\n",
        "# Calculate the Z-score\n",
        "z_score = (sample_mean - population_mean) / standard_error\n",
        "\n",
        "# Calculate the p-value: Left Tail Test\n",
        "p_value = stats.norm.cdf(z_score)\n",
        "\n",
        "# Significance level\n",
        "alpha = 0.05\n",
        "\n",
        "# Compare p-value with the significance level\n",
        "if p_value < alpha:\n",
        "    print(f\"Reject the null hypothesis. People from the state are shorter.\")\n",
        "else:\n",
        "    print(f\"Fail to reject the null hypothesis. No significant evidence that people from the state are shorter.\")\n",
        "\n",
        "print(f\"Z-score: {z_score}\")\n",
        "print(f\"P-value: {p_value}\")"
      ]
    },
    {
      "cell_type": "code",
      "source": [
        "# Define sample mean, standard deviation, and sample size\n",
        "sample_mean = 530\n",
        "population_std = 125\n",
        "sample_size = 70\n",
        "population_mean = 500\n",
        "\n",
        "# Calculate z-score\n",
        "z_score = (sample_mean - population_mean) / (population_std / np.sqrt(sample_size))\n",
        "\n",
        "# Round z-score to two decimal places\n",
        "z_score = round(z_score, 2)\n",
        "print(f\"z-score: {z_score}\")\n",
        "\n",
        "# Set critical z-value and confidence level\n",
        "confidence_level = 0.95\n",
        "critical_z = stats.norm.ppf(confidence_level)\n",
        "print(\"critical z-value:\",critical_z)\n",
        "\n",
        "# Check if the z-score is greater than the critical z-value\n",
        "\n",
        "if z_score > critical_z:\n",
        "    print(\"Reject the null hypothesis. The shop's claim is supported by the data.\")\n",
        "else:\n",
        "    print(\"Fail to reject the null hypothesis. There is not enough evidence to support the shop's claim.\")"
      ],
      "metadata": {
        "colab": {
          "base_uri": "https://localhost:8080/"
        },
        "id": "m0EFqrNHRu5v",
        "outputId": "49b2c2f8-6f1d-4c49-c876-a3b4d03cc14e"
      },
      "execution_count": null,
      "outputs": [
        {
          "output_type": "stream",
          "name": "stdout",
          "text": [
            "z-score: 2.01\n",
            "critical z-value: 1.6448536269514722\n",
            "Reject the null hypothesis. The shop's claim is supported by the data.\n"
          ]
        }
      ]
    },
    {
      "cell_type": "code",
      "source": [
        "# Define sample mean, standard deviation, and sample size\n",
        "sample_mean = 1.85\n",
        "population_std = 0.5\n",
        "sample_size = 30\n",
        "population_mean = 1.7\n",
        "critical_z = 1.96\n",
        "\n",
        "# Calculate z-score\n",
        "z_score = (sample_mean - population_mean) / (population_std / np.sqrt(sample_size))\n",
        "\n",
        "# Round z-score to two decimal places\n",
        "z_score = round(z_score, 2)\n",
        "print(f\"z-score: {z_score}\")\n",
        "\n",
        "if z_score > critical_z:\n",
        "    print(\"Reject the null hypothesis.\")\n",
        "else:\n",
        "    print(\"Fail to reject the null hypothesis.\")"
      ],
      "metadata": {
        "colab": {
          "base_uri": "https://localhost:8080/"
        },
        "id": "y7cnxxvaS_xF",
        "outputId": "267e307a-2fd1-4a48-c6ec-26883929ae69"
      },
      "execution_count": null,
      "outputs": [
        {
          "output_type": "stream",
          "name": "stdout",
          "text": [
            "z-score: 1.64\n",
            "Fail to reject the null hypothesis.\n"
          ]
        }
      ]
    },
    {
      "cell_type": "code",
      "source": [
        "# Given values\n",
        "confidence_level = 0.96\n",
        "mean = 250  # Mean response time in milliseconds\n",
        "std_deviation = 30  # Standard deviation in milliseconds\n",
        "\n",
        "# A two-tailed test, considering both possibilities: the average response time could be higher or lower than 250 milliseconds.\n",
        "# Calculate the critical Z-score for a 96% confidence level\n",
        "critical_z = stats.norm.ppf(1 - (1 - confidence_level) / 2)\n",
        "\n",
        "# Calculate the critical value using Z-score formula\n",
        "critical_value = (critical_z * std_deviation) + mean\n",
        "\n",
        "\n",
        "print(f\"Critical Value: {critical_value:.4f}\")"
      ],
      "metadata": {
        "colab": {
          "base_uri": "https://localhost:8080/"
        },
        "id": "6pekNbNxUqmy",
        "outputId": "f7a171c5-8759-4357-fe8b-c436002ada17"
      },
      "execution_count": null,
      "outputs": [
        {
          "output_type": "stream",
          "name": "stdout",
          "text": [
            "Critical Value: 311.6125\n"
          ]
        }
      ]
    },
    {
      "cell_type": "code",
      "source": [
        "# Given values\n",
        "sample_mean = 4.5\n",
        "population_std_dev = 1.2\n",
        "sample_size = 100\n",
        "confidence_level = 0.95\n",
        "\n",
        "# Calculate the standard error of the mean\n",
        "standard_error = population_std_dev / np.sqrt(sample_size)\n",
        "\n",
        "# Find the Z-score for the 95% confidence level\n",
        "z_score = stats.norm.ppf(1 - (1 - confidence_level) / 2)\n",
        "\n",
        "# Calculate the margin of error\n",
        "margin_of_error = z_score * standard_error\n",
        "\n",
        "# Calculate the confidence interval\n",
        "confidence_interval = (sample_mean - margin_of_error, sample_mean + margin_of_error)\n",
        "\n",
        "confidence_interval"
      ],
      "metadata": {
        "colab": {
          "base_uri": "https://localhost:8080/"
        },
        "id": "vsde2r7eVYy9",
        "outputId": "08ab4e40-4a21-4f71-9ab3-77349f146219"
      },
      "execution_count": null,
      "outputs": [
        {
          "output_type": "execute_result",
          "data": {
            "text/plain": [
              "(4.264804321855194, 4.735195678144806)"
            ]
          },
          "metadata": {},
          "execution_count": 25
        }
      ]
    },
    {
      "cell_type": "code",
      "source": [],
      "metadata": {
        "id": "hA8dZDzGWE5-"
      },
      "execution_count": null,
      "outputs": []
    },
    {
      "cell_type": "code",
      "source": [
        "population_mean = 100\n",
        "population_std = 15\n",
        "\n",
        "sample_mean = 110\n",
        "sample_size = 50\n",
        "\n",
        "significance_level = 0.05\n",
        "\n",
        "standard_error = population_std / (sample_size**0.5)\n",
        "\n",
        "Z = (sample_mean - population_mean) / standard_error\n",
        "\n",
        "p_value = 1 - stats.norm.cdf(Z)\n",
        "\n",
        "p_value\n",
        "\n",
        "if p_value < significance_level:\n",
        "    conclusion = \"Reject the null hypothesis.Candidates who study at this coaching institution have more IQ than an average high school student.\"\n",
        "else:\n",
        "    conclusion = \"Fail to reject the null hypothesis. Candidates who study at this coaching institution have the same IQ as an average high school student.\"\n",
        "\n",
        "print(conclusion)"
      ],
      "metadata": {
        "colab": {
          "base_uri": "https://localhost:8080/"
        },
        "id": "ioVsjw-3XCQS",
        "outputId": "b6d02265-c2c1-4877-91af-0a347a7e9959"
      },
      "execution_count": null,
      "outputs": [
        {
          "output_type": "stream",
          "name": "stdout",
          "text": [
            "Reject the null hypothesis.Candidates who study at this coaching institution have more IQ than an average high school student.\n"
          ]
        }
      ]
    },
    {
      "cell_type": "code",
      "source": [
        "# Given values\n",
        "sample_mean = 243.5\n",
        "population_mean = 300.0\n",
        "population_std_dev = 229.5\n",
        "sample_size = 50\n",
        "confidence_level = 0.95\n",
        "\n",
        "# Calculate the standard error of the mean\n",
        "standard_error = population_std_dev / np.sqrt(sample_size)\n",
        "\n",
        "# Calculate the z-test statistic\n",
        "z_score = (sample_mean - population_mean) / standard_error\n",
        "\n",
        "# Calculate the p-value for the two-tailed test\n",
        "p_value = 2 * (1 - stats.norm.cdf(np.abs(z_score)))\n",
        "\n",
        "# Determine the critical z-value for the given confidence level\n",
        "critical_z = stats.norm.ppf(1 - (1 - confidence_level) / 2)\n",
        "\n",
        "# Output results\n",
        "z_score, p_value, critical_z"
      ],
      "metadata": {
        "colab": {
          "base_uri": "https://localhost:8080/"
        },
        "id": "xRUa8AFMYpHi",
        "outputId": "721f904a-9de2-4e13-b1a2-2912e8dba801"
      },
      "execution_count": null,
      "outputs": [
        {
          "output_type": "execute_result",
          "data": {
            "text/plain": [
              "(-1.7408075440976007, 0.08171731915149638, 1.959963984540054)"
            ]
          },
          "metadata": {},
          "execution_count": 27
        }
      ]
    },
    {
      "cell_type": "code",
      "source": [
        "# Given values\n",
        "sample_mean = 750\n",
        "population_mean = 3.5\n",
        "sample_std_dev = 50\n",
        "\n",
        "# Calculate Cohen's d\n",
        "cohens_d = (sample_mean - population_mean) / sample_std_dev\n",
        "\n",
        "# Output result\n",
        "cohens_d\n"
      ],
      "metadata": {
        "colab": {
          "base_uri": "https://localhost:8080/"
        },
        "id": "t8rNynHuZbjy",
        "outputId": "bb6bcd11-390b-4f68-be83-bb9f14247f93"
      },
      "execution_count": null,
      "outputs": [
        {
          "output_type": "execute_result",
          "data": {
            "text/plain": [
              "14.93"
            ]
          },
          "metadata": {},
          "execution_count": 28
        }
      ]
    },
    {
      "cell_type": "code",
      "source": [
        "# Given values\n",
        "population_mean = 3.5\n",
        "population_std = 0.7\n",
        "critical_z_value = 1.28\n",
        "sample_size = 45\n",
        "\n",
        "# Calculate the critical sample mean\n",
        "critical_sample_mean = population_mean + (critical_z_value * (population_std / math.sqrt(sample_size)))\n",
        "\n",
        "# Round off the answer to three decimal places\n",
        "critical_sample_mean = round(critical_sample_mean, 3)\n",
        "print(\"Critical Sample Mean:\", critical_sample_mean)"
      ],
      "metadata": {
        "colab": {
          "base_uri": "https://localhost:8080/"
        },
        "id": "KEjp9EQYZyx2",
        "outputId": "75c08b28-9e4b-42b4-bbf3-d9393866c20e"
      },
      "execution_count": null,
      "outputs": [
        {
          "output_type": "stream",
          "name": "stdout",
          "text": [
            "Critical Sample Mean: 3.634\n"
          ]
        }
      ]
    },
    {
      "cell_type": "code",
      "source": [
        "# Given data\n",
        "mu = 150  # Population average (national)\n",
        "sigma = 8.5  # Population standard deviation\n",
        "n = 10  # Sample size\n",
        "sample_mean = 155  # Sample mean\n",
        "\n",
        "# Calculate the standard error of the mean (SEM)\n",
        "sem = sigma / (n**0.5)\n",
        "\n",
        "# Calculate the Z-score\n",
        "Z = (sample_mean - mu) / sem\n",
        "\n",
        "# Calculate the p-value for the right-tailed test\n",
        "p_value = 1 - stats.norm.cdf(Z)\n",
        "\n",
        "# Set the significance level (alpha)\n",
        "alpha = 0.05\n",
        "\n",
        "# Compare the p-value to the significance level\n",
        "if p_value < alpha:\n",
        "    print(f\"p-value: {p_value}, Reject the null hypothesis. Hence students from the coaching center are better\")\n",
        "else:\n",
        "    print(f\"p-value: {p_value}, Fail to reject the null hypothesis. Hence students from the coaching center are not better\")"
      ],
      "metadata": {
        "colab": {
          "base_uri": "https://localhost:8080/"
        },
        "id": "wb0gboyLap27",
        "outputId": "530808fd-5667-4ba4-ae08-34661f18b625"
      },
      "execution_count": null,
      "outputs": [
        {
          "output_type": "stream",
          "name": "stdout",
          "text": [
            "p-value: 0.031431210741779014, Reject the null hypothesis. Hence students from the coaching center are better\n"
          ]
        }
      ]
    },
    {
      "cell_type": "code",
      "source": [
        "# Given data\n",
        "mu = 3  # Population average (national)\n",
        "sigma = 0.8  # Population standard deviation\n",
        "n = 25  # Sample size\n",
        "sample_mean = 3.5  # Sample mean\n",
        "\n",
        "# Calculate the standard error of the mean (SEM)\n",
        "sem = sigma / (n**0.5)\n",
        "\n",
        "# Calculate the Z-score\n",
        "Z = (sample_mean - mu) / sem\n",
        "\n",
        "# Calculate the p-value for the right-tailed test\n",
        "p_value = 1 - stats.norm.cdf(Z)\n",
        "\n",
        "# Set the significance level (alpha)\n",
        "alpha = 0.05\n",
        "\n",
        "# Compare the p-value to the significance level\n",
        "if p_value < alpha:\n",
        "    print(f\"p-value: {p_value}, Reject the null hypothesis, z-score : {Z}\")\n",
        "else:\n",
        "    print(f\"p-value: {p_value}, Fail to reject the null hypothesis,  z-score : {Z}\")"
      ],
      "metadata": {
        "colab": {
          "base_uri": "https://localhost:8080/"
        },
        "id": "kcBybICAa8ea",
        "outputId": "5fee210d-fc09-4b74-d904-d19b0df81636"
      },
      "execution_count": null,
      "outputs": [
        {
          "output_type": "stream",
          "name": "stdout",
          "text": [
            "p-value: 0.0008890252991083925, Reject the null hypothesis, z-score : 3.125\n"
          ]
        }
      ]
    },
    {
      "cell_type": "markdown",
      "source": [
        "# **Z-TEST CONT.**"
      ],
      "metadata": {
        "id": "HOFZK05BymXH"
      }
    },
    {
      "cell_type": "markdown",
      "source": [
        "The average hourly wage of a sample of 150 workers in plant 'A' was Rs.2·87 with a standard deviation of Rs. 1·08.\n",
        "\n",
        "The average wage of a sample of 200 workers in plant 'B' was Rs. 2·56 with a standard deviation of Rs. 1·28.\n",
        "\n",
        "(i) Calculate the Z-score for this scenario.\n",
        "\n",
        "(ii) Can an applicant safely assume that the hourly wages paid by plant 'A' are higher than those paid by plant 'B' at a 1% significance level?"
      ],
      "metadata": {
        "id": "LKXLI520uJo5"
      }
    },
    {
      "cell_type": "code",
      "source": [
        "# Define the function to calculate the two-sample z-test\n",
        "def TwoSampZTest(samp_mean_1, samp_mean_2, samp_std_1, samp_std_2, n1, n2):\n",
        "    denominator = np.sqrt((samp_std_1**2 / n1) + (samp_std_2**2 / n2))\n",
        "    z_score = (samp_mean_1 - samp_mean_2) / denominator\n",
        "    return z_score\n",
        "\n",
        "# Given data for plant A\n",
        "sample_mean_A = 2.87\n",
        "sample_std_A = 1.08\n",
        "sample_size_A = 150\n",
        "\n",
        "# Given data for plant B\n",
        "sample_mean_B = 2.56\n",
        "sample_std_B = 1.28\n",
        "sample_size_B = 200\n",
        "\n",
        "# Set the significance level\n",
        "significance_level = 0.01\n",
        "\n",
        "# Calculate the z-score using the function\n",
        "z_score = TwoSampZTest(sample_mean_A, sample_mean_B, sample_std_A, sample_std_B, sample_size_A, sample_size_B)\n",
        "\n",
        "# Calculate the one-tailed p-value\n",
        "p_value = 1-stats.norm.cdf(z_score)\n",
        "\n",
        "# Compare the p-value to the significance level\n",
        "if p_value < significance_level:\n",
        "    conclusion = \"Reject the null hypothesis. Hourly wages in plant 'A' are higher than those in plant 'B' at a 1% significance level.\"\n",
        "else:\n",
        "    conclusion = \"Fail to reject the null hypothesis. No significant difference in hourly wages between plant 'A' and 'B' at a 1% significance level.\"\n",
        "\n",
        "# Print the results\n",
        "print(f'z-score: {z_score:.4f}')\n",
        "print(f'p-value: {p_value:.4f}')\n",
        "print('Conclusion:', conclusion)"
      ],
      "metadata": {
        "colab": {
          "base_uri": "https://localhost:8080/"
        },
        "id": "LugzF5UmylfY",
        "outputId": "f1b26e44-67f2-41ce-b7ce-8eb889d15129"
      },
      "execution_count": null,
      "outputs": [
        {
          "output_type": "stream",
          "name": "stdout",
          "text": [
            "z-score: 2.4532\n",
            "p-value: 0.0071\n",
            "Conclusion: Reject the null hypothesis. Hourly wages in plant 'A' are higher than those in plant 'B' at a 1% significance level.\n"
          ]
        }
      ]
    },
    {
      "cell_type": "markdown",
      "source": [
        "The Head of Data Analyst Department is conducting a comparative analysis of the complexity of SQL queries written by two analysts, namely Analyst X and Analyst Y.\n",
        "\n",
        "He has gathered data on the number of lines of code for each SQL query.\n",
        "\n",
        "Analyst X's SQL lines of code: [15, 18, 20, 17, 16, 19, 22, 16, 18, 21, 23, 18, 17, 19, 20, 24, 25, 26, 27, 28, 19, 21, 22, 23, 24, 25, 26, 27, 28, 29, 30]\n",
        "Analyst Y's SQL lines of code: [14, 17, 19, 16, 15, 18, 21, 15, 17, 20, 22, 17, 16, 18, 19, 23, 24, 25, 26, 27, 18, 20, 21, 22, 23, 24, 25, 26, 27, 28, 29]\n",
        "The analyst hypothesizes that Analyst Y writes less complex code compared to Analyst X. To investigate this hypothesis, conduct an appropriate test with a 90% confidence interval."
      ],
      "metadata": {
        "id": "AoIn2Y1ct_Fe"
      }
    },
    {
      "cell_type": "code",
      "source": [
        "# Number of lines of code for SQL queries by Analyst X\n",
        "sql_lines_X = [15, 18, 20, 17, 16, 19, 22, 16, 18, 21, 23, 18, 17, 19, 20, 24, 25, 26, 27, 28, 19, 21, 22, 23, 24, 25, 26, 27, 28, 29, 30]\n",
        "\n",
        "# Number of lines of code for SQL queries by Analyst Y\n",
        "sql_lines_Y = [14, 17, 19, 16, 15, 18, 21, 15, 17, 20, 22, 17, 16, 18, 19, 23, 24, 25, 26, 27, 18, 20, 21, 22, 23, 24, 25, 26, 27, 28, 29]\n",
        "\n",
        "# Perform two-sample Z-test\n",
        "z_score, p_value = stests.ztest(sql_lines_Y, sql_lines_X, alternative ='smaller')\n",
        "\n",
        "# Confidence level\n",
        "confidence_level = 0.90\n",
        "alpha = 1 - confidence_level\n",
        "\n",
        "# Print the results\n",
        "print(f\"Z-score: {z_score}\")\n",
        "print(f\"P-value: {p_value}\")\n",
        "\n",
        "# Decision Rule\n",
        "if p_value < alpha:\n",
        "   print(\"Reject the null hypothesis. There is significant evidence that Analyst Y writes less complex code compared to Analyst X.\")\n",
        "else:\n",
        "   print(\"Fail to reject the null hypothesis. There is no significant evidence that Analyst Y writes less complex code compared to Analyst X.\")"
      ],
      "metadata": {
        "colab": {
          "base_uri": "https://localhost:8080/"
        },
        "id": "KRmkA0lJtkg9",
        "outputId": "ddd66446-a98e-4a19-c6d4-93e6cf8c2fb1"
      },
      "execution_count": null,
      "outputs": [
        {
          "output_type": "stream",
          "name": "stdout",
          "text": [
            "Z-score: -0.9186781563938095\n",
            "P-value: 0.17913196923296043\n",
            "Fail to reject the null hypothesis. There is no significant evidence that Analyst Y writes less complex code compared to Analyst X.\n"
          ]
        }
      ]
    },
    {
      "cell_type": "markdown",
      "source": [
        "Out of a sample of 1,000 people residing in Maharashtra, 540 are rice eaters, while the rest consume wheat primarily.\n",
        "\n",
        "Can we assume that rice and wheat are equally popular in this state at a 5% significance level?"
      ],
      "metadata": {
        "id": "TCtvgJfouYAq"
      }
    },
    {
      "cell_type": "code",
      "source": [
        "# H0: Both rice and wheat are equally popular in the State (P = 0.5)\n",
        "# Ha: Both rice and wheat are not equally popular in the State( P ≠ 0.5)(two-tailed test).\n",
        "\n",
        "# Given data\n",
        "total_population = 1000\n",
        "rice_eaters = 540\n",
        "wheat_eaters = total_population - rice_eaters\n",
        "assumed_proportion = 0.5  # Assuming equal popularity of rice and wheat\n",
        "\n",
        "# Hypothesis test\n",
        "z_stat, p_value = sm.stats.proportions_ztest(rice_eaters, total_population, assumed_proportion, alternative='two-sided')\n",
        "print(\"Z-statistic:\", z_stat)\n",
        "print(\"P-value:\", p_value)\n",
        "\n",
        "alpha = 0.05\n",
        "if p_value < alpha:\n",
        "    print(\"Reject the null hypothesis. Rice and wheat are not equally popular in Maharashtra at a 5% significance level.\")\n",
        "else:\n",
        "    print(\"Fail to reject the null hypothesis. There is no significant difference in the popularity of rice and wheat in Maharashtra at a 5% significance level.\")"
      ],
      "metadata": {
        "colab": {
          "base_uri": "https://localhost:8080/"
        },
        "id": "DVU2J0RdutKa",
        "outputId": "9e8a44a3-837a-4e73-c65c-37cda2aac9f2"
      },
      "execution_count": null,
      "outputs": [
        {
          "output_type": "stream",
          "name": "stdout",
          "text": [
            "Z-statistic: 2.537956625422939\n",
            "P-value: 0.011150180283180655\n",
            "Reject the null hypothesis. Rice and wheat are not equally popular in Maharashtra at a 5% significance level.\n"
          ]
        }
      ]
    },
    {
      "cell_type": "markdown",
      "source": [
        "A state senator cannot decide how to vote on an environmental protection bill.\n",
        "\n",
        "The senator decides to request a survey and if the proportion of registered voters supporting the bill exceeds 0.60, she will vote for it.\n",
        "\n",
        "A random sample of 750 voters is selected and 495 are found to support the bill.\n",
        "\n",
        "Conduct an appropriate test at a 90% confidence interval."
      ],
      "metadata": {
        "id": "TcqOaRBszJ49"
      }
    },
    {
      "cell_type": "code",
      "source": [
        "# Null Hypothesis: The proportion of registered voters supporting the bill is less than or equal to 0.60 (p≤0.60)\n",
        "# Alternative Hypothesis: The proportion of registered voters supporting the bill is greater than 0.60(p>0.60)\n",
        "\n",
        "# Given data\n",
        "sample_size = 750\n",
        "observed_support = 495\n",
        "hypothesized_proportion = 0.60\n",
        "confidence_level = 0.90\n",
        "\n",
        "\n",
        "# Calculate the sample proportion\n",
        "sample_proportion = observed_support / sample_size\n",
        "\n",
        "\n",
        "# Calculate the standard error\n",
        "standard_error = math.sqrt((hypothesized_proportion * (1 - hypothesized_proportion)) / sample_size)\n",
        "\n",
        "\n",
        "# Calculate the Z-score\n",
        "z_stat = (sample_proportion - hypothesized_proportion) / standard_error\n",
        "\n",
        "\n",
        "# Calculate the p-value by conducting Right Tailed Test\n",
        "p_value = 1 - stats.norm.cdf(z_stat)\n",
        "\n",
        "\n",
        "print(\"Z-statistic:\", z_stat)\n",
        "print(\"P-value:\", p_value)\n",
        "\n",
        "\n",
        "alpha = 1 - confidence_level\n",
        "if p_value < alpha:\n",
        " print(\"Reject the null hypothesis. There is evidence to suggest that the proportion of registered voters supporting the bill is greater than 0.60.\")\n",
        "else:\n",
        " print(\"Fail to reject the null hypothesis. There is no evidence to suggest that the proportion of registered voters supporting the bill is greater than 0.60.\")\n",
        "\n"
      ],
      "metadata": {
        "colab": {
          "base_uri": "https://localhost:8080/"
        },
        "id": "TWvT5x9azKUc",
        "outputId": "57e95674-94ff-447e-c2ec-90c0716ea7e1"
      },
      "execution_count": null,
      "outputs": [
        {
          "output_type": "stream",
          "name": "stdout",
          "text": [
            "Z-statistic: 3.354101966249688\n",
            "P-value: 0.0003981150787953913\n",
            "Reject the null hypothesis. There is evidence to suggest that the proportion of registered voters supporting the bill is greater than 0.60.\n"
          ]
        }
      ]
    },
    {
      "cell_type": "code",
      "source": [
        "# Given data\n",
        "n = 750  # sample size\n",
        "x = 495  # number of supporters\n",
        "p0 = 0.60  # hypothesized proportion\n",
        "\n",
        "# Perform the one-sample Z-test for proportions\n",
        "z_stat, p_value = sm.stats.proportions_ztest(count=x, nobs=n, value=p0, alternative='larger')\n",
        "\n",
        "# Print the results\n",
        "print(f\"Z-statistic: {z_stat:.4f}\")\n",
        "print(f\"P-value: {p_value:.4f}\")\n",
        "\n",
        "# Decision Rule\n",
        "alpha = 0.10  # significance level\n",
        "if p_value < alpha:\n",
        "    print(\"Reject the null hypothesis. The senator should vote for the bill.\")\n",
        "else:\n",
        "    print(\"Fail to reject the null hypothesis. The senator should not vote for the bill.\")\n"
      ],
      "metadata": {
        "colab": {
          "base_uri": "https://localhost:8080/"
        },
        "id": "zF1T5_v_0Z9v",
        "outputId": "3d2c804c-096b-4acd-c536-49cee5524326"
      },
      "execution_count": null,
      "outputs": [
        {
          "output_type": "stream",
          "name": "stdout",
          "text": [
            "Z-statistic: 3.4687\n",
            "P-value: 0.0003\n",
            "Reject the null hypothesis. The senator should vote for the bill.\n"
          ]
        }
      ]
    },
    {
      "cell_type": "markdown",
      "source": [
        "The Quidditch teams at Hogwarts conducted tryouts for two positions: Chasers and Seekers.\n",
        "\n",
        "In Group Chasers, out of 90 students who tried out, 57 were selected. In Group Seekers, out of 120 students who tried out, 98 were selected.\n",
        "\n",
        "Is there a significant difference in the proportion of students selected for Chasers and Seekers positions?\n",
        "\n",
        "Conduct a test at 90% confidence level."
      ],
      "metadata": {
        "id": "Gyr3oooH2s1-"
      }
    },
    {
      "cell_type": "code",
      "source": [
        "# Null Hypothesis: There is no significant difference in the proportion of students selected for Chasers and Seekers positions at Hogwarts.\n",
        "# Alternative Hypothesis: There is a significant difference in the proportion of students selected for Chasers and Seekers positions at Hogwarts.\n",
        "\n",
        "# Data for Chasers\n",
        "selected_chasers = 57\n",
        "total_chasers = 90\n",
        "\n",
        "# Data for Seekers\n",
        "selected_seekers = 98\n",
        "total_seekers = 120\n",
        "\n",
        "# Perform two-sample Z-proportion test\n",
        "z_stat, p_value = sm.stats.proportions_ztest([selected_chasers, selected_seekers], [total_chasers, total_seekers], alternative = 'two-sided')\n",
        "\n",
        "# Confidence level\n",
        "confidence_level = 0.90\n",
        "# Calculate the critical value for a two-tailed test\n",
        "alpha = 1 - confidence_level\n",
        "\n",
        "# Print the results\n",
        "print(f\"Z-statistic: {z_stat}\")\n",
        "print(f\"P-value: {p_value}\")\n",
        "\n",
        "# Decision Rule\n",
        "if p_value < alpha:\n",
        "   print(\"Reject the null hypothesis. There is a significant difference in the proportion of students selected for Chasers and Seekers positions.\")\n",
        "else:\n",
        "   print(\"Fail to reject the null hypothesis. There is no significant difference in the proportion of students selected for Chasers and Seekers positions.\")"
      ],
      "metadata": {
        "colab": {
          "base_uri": "https://localhost:8080/"
        },
        "id": "fov7DG5c2vB4",
        "outputId": "422ff9e7-b498-4d9e-a56f-47e649f91c89"
      },
      "execution_count": null,
      "outputs": [
        {
          "output_type": "stream",
          "name": "stdout",
          "text": [
            "Z-statistic: -2.990306921349541\n",
            "P-value: 0.002786972588958094\n",
            "Reject the null hypothesis. There is a significant difference in the proportion of students selected for Chasers and Seekers positions.\n"
          ]
        }
      ]
    },
    {
      "cell_type": "markdown",
      "source": [
        "As a product manager, you want to evaluate the user satisfaction for two different seasons of Naruto Shippuden (Season 1 and Season 2).\n",
        "\n",
        "You collected feedback from 250 viewers who watched Season 1 of Naruto Shippuden, and 120 expressed satisfaction. Similarly, for Season 2, you gathered data from 300 viewers, and 150 of them expressed satisfaction.\n",
        "\n",
        "Conduct an appropriate test at a 95% confidence interval to determine if there's a higher user satisfaction for Season 2 than for Season 1."
      ],
      "metadata": {
        "id": "nF1y4ucH3_gm"
      }
    },
    {
      "cell_type": "code",
      "source": [
        "# null hypo :  s1 >= s2\n",
        "# alternate hypo : s2 > s1\n",
        "\n",
        "# Data for s1\n",
        "satis_1 = 120\n",
        "total_1 =250\n",
        "\n",
        "# Data for s2\n",
        "satis_2 = 150\n",
        "total_2 = 300\n",
        "\n",
        "# Perform two-sample Z-proportion test\n",
        "z_stat, p_value = sm.stats.proportions_ztest([satis_2, satis_1], [total_2, total_1], alternative = 'larger')\n",
        "\n",
        "# Confidence level\n",
        "confidence_level = 0.95\n",
        "# Calculate the critical value for a two-tailed test\n",
        "alpha = 1 - confidence_level\n",
        "\n",
        "# Print the results\n",
        "print(f\"Z-statistic: {z_stat}\")\n",
        "print(f\"P-value: {p_value}\")\n",
        "\n",
        "# Decision Rule\n",
        "if p_value < alpha:\n",
        "   print(\"Reject the null hypothesis.\")\n",
        "else:\n",
        "   print(\"Fail to reject the null hypothesis.\")"
      ],
      "metadata": {
        "colab": {
          "base_uri": "https://localhost:8080/"
        },
        "id": "NxZBkP5G5Fpo",
        "outputId": "2c410b81-f5ab-4df7-afec-e6854bd86219"
      },
      "execution_count": null,
      "outputs": [
        {
          "output_type": "stream",
          "name": "stdout",
          "text": [
            "Z-statistic: 0.46717659215115714\n",
            "P-value: 0.3201867697265242\n",
            "Fail to reject the null hypothesis.\n"
          ]
        }
      ]
    },
    {
      "cell_type": "markdown",
      "source": [
        "An IT team is comparing the response times of two different web servers, Server A and Server B, under a specific load. They have collected response time data for a sample of requests.\n",
        "\n",
        "Server A: Mean response time of 120 milliseconds from 30 requests, with a standard deviation of 15 milliseconds.\n",
        "Server B: Mean response time of 110 milliseconds from 35 requests, with a standard deviation of 12 milliseconds.\n",
        "Conduct an appropriate test to determine if there is a significant difference in the mean response times between the two servers. Assume a 5% significance level."
      ],
      "metadata": {
        "id": "Q21aJPYgE2-Z"
      }
    },
    {
      "cell_type": "code",
      "source": [
        "# Given data for Server A\n",
        "mean_A = 120\n",
        "std_dev_A = 15\n",
        "sample_size_A = 30\n",
        "\n",
        "\n",
        "# Given data for Server B\n",
        "mean_B = 110\n",
        "std_dev_B = 12\n",
        "sample_size_B = 35\n",
        "\n",
        "\n",
        "# Significance level\n",
        "significance_level = 0.05\n",
        "\n",
        "\n",
        "# Calculate the z-score using the function\n",
        "z_score = TwoSampZTest(mean_A, mean_B, std_dev_A, std_dev_B, sample_size_A, sample_size_B)\n",
        "\n",
        "\n",
        "# Calculate the two-tailed p-value\n",
        "p_value = 2 * (1 - stats.norm.cdf(abs(z_score)))\n",
        "\n",
        "\n",
        "# Compare the p-value to the significance level\n",
        "if p_value < significance_level:\n",
        "   conclusion = \"Reject the null hypothesis. There is a significant difference in the mean response times between Server A and Server B.\"\n",
        "else:\n",
        "   conclusion = \"Fail to reject the null hypothesis. There is no significant difference in the mean response times between Server A and Server B.\"\n",
        "\n",
        "\n",
        "# Print the results\n",
        "print(f'z-score: {z_score:.4f}')\n",
        "print(f'p-value: {p_value:.4f}')\n",
        "print('Conclusion:', conclusion)"
      ],
      "metadata": {
        "colab": {
          "base_uri": "https://localhost:8080/"
        },
        "id": "Vep11kPIE48W",
        "outputId": "0ce4de76-2b10-4d9d-dc23-3a1c63340553"
      },
      "execution_count": null,
      "outputs": [
        {
          "output_type": "stream",
          "name": "stdout",
          "text": [
            "z-score: 2.9343\n",
            "p-value: 0.0033\n",
            "Conclusion: Reject the null hypothesis. There is a significant difference in the mean response times between Server A and Server B.\n"
          ]
        }
      ]
    },
    {
      "cell_type": "markdown",
      "source": [
        "A group of archers claims that they can hit the bullseye with a success rate of 70%. To test this claim, a random sample of 100 shots is taken, and 65 of them hit the bullseye.\n",
        "\n",
        "Is there significant evidence to suggest that the archer’s actual success rate is greater than 70% at a 95% confidence level?"
      ],
      "metadata": {
        "id": "w-9J7D1HE4hB"
      }
    },
    {
      "cell_type": "code",
      "source": [
        "import scipy.stats as stats\n",
        "import numpy as np\n",
        "\n",
        "# Data\n",
        "n = 100\n",
        "x = 65\n",
        "p_observed = x / n\n",
        "p0 = 0.70\n",
        "\n",
        "# Calculate the z-score\n",
        "standard_error = np.sqrt(p0 * (1 - p0) / n)\n",
        "z_score = (p_observed - p0) / standard_error\n",
        "\n",
        "# Calculate the one-tailed p-value\n",
        "p_value = 1 - stats.norm.cdf(z_score)\n",
        "\n",
        "# Significance level\n",
        "alpha = 0.05\n",
        "\n",
        "# Print the results\n",
        "print(f'Z-score: {z_score:.4f}')\n",
        "print(f'P-value: {p_value:.4f}')\n",
        "\n",
        "# Decision Rule\n",
        "if p_value < alpha:\n",
        "    conclusion = \"Reject the null hypothesis. There is significant evidence to suggest that the archer’s actual success rate is greater than 70%.\"\n",
        "else:\n",
        "    conclusion = \"Fail to reject the null hypothesis. There is no significant evidence to suggest that the archer’s actual success rate is greater than 70%.\"\n",
        "\n",
        "print('Conclusion:', conclusion)\n"
      ],
      "metadata": {
        "colab": {
          "base_uri": "https://localhost:8080/"
        },
        "id": "79bZF8slGG7L",
        "outputId": "7fd92d34-3b86-4275-b379-828db9650225"
      },
      "execution_count": null,
      "outputs": [
        {
          "output_type": "stream",
          "name": "stdout",
          "text": [
            "Z-score: -1.0911\n",
            "P-value: 0.8624\n",
            "Conclusion: Fail to reject the null hypothesis. There is no significant evidence to suggest that the archer’s actual success rate is greater than 70%.\n"
          ]
        }
      ]
    },
    {
      "cell_type": "markdown",
      "source": [
        "You are testing two drugs as a remedy. Drug A is effective in 41 out of a sample of 195. Drug B works on 351 out of 605 people.\n",
        "\n",
        "Are the two drugs comparable in terms of effectiveness? Use a 5% significance level for testing.\n",
        "\n",
        "Perform an appropriate test.\n",
        "\n"
      ],
      "metadata": {
        "id": "CfxkRsO6GkbG"
      }
    },
    {
      "cell_type": "code",
      "source": [
        "# null hypo :  s1 == s2\n",
        "# alternate hypo : s2 != s1\n",
        "\n",
        "# Data for s1\n",
        "satis_1 = 41\n",
        "total_1 = 195\n",
        "\n",
        "# Data for s2\n",
        "satis_2 = 351\n",
        "total_2 = 605\n",
        "\n",
        "# Perform two-sample Z-proportion test\n",
        "z_stat, p_value = sm.stats.proportions_ztest([satis_2, satis_1], [total_2, total_1], alternative = 'two-sided')\n",
        "\n",
        "# Confidence level\n",
        "confidence_level = 0.95\n",
        "# Calculate the critical value for a two-tailed test\n",
        "alpha = 1 - confidence_level\n",
        "\n",
        "# Print the results\n",
        "print(f\"Z-statistic: {z_stat}\")\n",
        "print(f\"P-value: {p_value}\")\n",
        "\n",
        "# Decision Rule\n",
        "if p_value < alpha:\n",
        "   print(\"Reject the null hypothesis.\")\n",
        "else:\n",
        "   print(\"Fail to reject the null hypothesis.\")"
      ],
      "metadata": {
        "colab": {
          "base_uri": "https://localhost:8080/"
        },
        "id": "h8bnD3C-Giz0",
        "outputId": "016020f0-3f1f-45b8-9beb-537589aaf69d"
      },
      "execution_count": null,
      "outputs": [
        {
          "output_type": "stream",
          "name": "stdout",
          "text": [
            "Z-statistic: 8.985900954503084\n",
            "P-value: 2.566230446480293e-19\n",
            "Reject the null hypothesis.\n"
          ]
        }
      ]
    },
    {
      "cell_type": "markdown",
      "source": [
        "As a social media analyst, you want to compare the engagement rates of posts from two different accounts (Account X and Account Y).\n",
        "\n",
        "You collected data on 180 posts from Account X, where 40 received high engagement. Similarly, you collect data on 200 posts from Account Y, where 60 received high engagement.\n",
        "\n",
        "Conduct an appropriate test at a 95% confidence interval to determine if there's a significant difference in high engagement proportions between the two accounts."
      ],
      "metadata": {
        "id": "VZW6GcsVIti7"
      }
    },
    {
      "cell_type": "code",
      "source": [
        "# null hypo :  s1 == s2\n",
        "# alternate hypo : s2 != s1\n",
        "\n",
        "# Data for s1\n",
        "satis_1 = 40\n",
        "total_1 = 180\n",
        "\n",
        "# Data for s2\n",
        "satis_2 = 60\n",
        "total_2 = 200\n",
        "\n",
        "# Perform two-sample Z-proportion test\n",
        "z_stat, p_value = sm.stats.proportions_ztest([satis_2, satis_1], [total_2, total_1], alternative = 'two-sided')\n",
        "\n",
        "# Confidence level\n",
        "confidence_level = 0.95\n",
        "# Calculate the critical value for a two-tailed test\n",
        "alpha = 1 - confidence_level\n",
        "\n",
        "# Print the results\n",
        "print(f\"Z-statistic: {z_stat}\")\n",
        "print(f\"P-value: {p_value}\")\n",
        "\n",
        "# Decision Rule\n",
        "if p_value < alpha:\n",
        "   print(\"Reject the null hypothesis.\")\n",
        "else:\n",
        "   print(\"Fail to reject the null hypothesis.\")"
      ],
      "metadata": {
        "colab": {
          "base_uri": "https://localhost:8080/"
        },
        "id": "CWGCJCkAIuXV",
        "outputId": "4083e224-3794-41fb-ba2f-2643ce1b8647"
      },
      "execution_count": null,
      "outputs": [
        {
          "output_type": "stream",
          "name": "stdout",
          "text": [
            "Z-statistic: 1.7191729277636834\n",
            "P-value: 0.08558288874449103\n",
            "Fail to reject the null hypothesis.\n"
          ]
        }
      ]
    }
  ]
}