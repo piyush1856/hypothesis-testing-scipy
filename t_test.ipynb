{
  "nbformat": 4,
  "nbformat_minor": 0,
  "metadata": {
    "colab": {
      "provenance": [],
      "authorship_tag": "ABX9TyO9vNxl6Q0PL4vqCYjokH0o",
      "include_colab_link": true
    },
    "kernelspec": {
      "name": "python3",
      "display_name": "Python 3"
    },
    "language_info": {
      "name": "python"
    }
  },
  "cells": [
    {
      "cell_type": "markdown",
      "metadata": {
        "id": "view-in-github",
        "colab_type": "text"
      },
      "source": [
        "<a href=\"https://colab.research.google.com/github/piyush1856/hypothesis-testing-scipy/blob/main/t_test.ipynb\" target=\"_parent\"><img src=\"https://colab.research.google.com/assets/colab-badge.svg\" alt=\"Open In Colab\"/></a>"
      ]
    },
    {
      "cell_type": "code",
      "execution_count": 1,
      "metadata": {
        "id": "b0ucqTyOVmPG"
      },
      "outputs": [],
      "source": [
        "import numpy as np\n",
        "import pandas as pd\n",
        "import seaborn as sns\n",
        "import matplotlib.pyplot as plt\n",
        "\n",
        "from scipy.stats import norm\n",
        "from scipy.stats import ttest_1samp\n",
        "from scipy.stats import ttest_ind # 2 sample t-test\n",
        "from scipy.stats import ttest_rel # paired / dependent t-test"
      ]
    },
    {
      "cell_type": "markdown",
      "source": [
        "Traditionally it is known that a green gram cultivation yields 12.0 quintals per hectare on an average.\n",
        "\n",
        "In order to increase crop yields, scientists have developed a new variety of green grams, that can supposedly produce more than the expected average yield of 12 quintals per hectare.\n",
        "\n",
        "To test the same, this variety of green grams was tested on 10 randomly selected farmer's fields.\n",
        "\n",
        "The yield (quintals/hectare) was recorded as: [14.3,12.6,13.7,10.9,13.7,12.0,11.4,12.0,12.6,13.1]\n",
        "\n",
        "With a 5% significance level, can we conclude that the average yield of this variety of green grams is more than the expected yield (12 quintals/hectare)?"
      ],
      "metadata": {
        "id": "UEYfzYBXxLVy"
      }
    },
    {
      "cell_type": "code",
      "source": [
        "# H0 : C <= 12\n",
        "# Ha : C > 12\n",
        "\n",
        "data =  [14.3,12.6,13.7,10.9,13.7,12.0,11.4,12.0,12.6,13.1]\n",
        "population_mean = 12\n",
        "\n",
        "t_stat, pvalue = ttest_1samp(data, population_mean, alternative = 'greater')\n",
        "print(t_stat, pvalue)\n",
        "\n",
        "alpha = 0.05\n",
        "\n",
        "if pvalue < alpha:\n",
        "  print('Reject H0')\n",
        "else:\n",
        "  print ('Fail to Reject H0')"
      ],
      "metadata": {
        "colab": {
          "base_uri": "https://localhost:8080/"
        },
        "id": "By8aUKM4VxPY",
        "outputId": "fede1098-f6c4-4f59-d90c-e4a5b0e6fb6f"
      },
      "execution_count": 5,
      "outputs": [
        {
          "output_type": "stream",
          "name": "stdout",
          "text": [
            "1.8356436949305335 0.04979938002326665\n",
            "Reject H0\n"
          ]
        }
      ]
    },
    {
      "cell_type": "markdown",
      "source": [
        "Samples of Body fat percentages of few gym going men and women are recorded.\n",
        "\n",
        "men = [13.3, 6.0, 20.0, 8.0, 14.0, 19.0, 18.0, 25.0, 16.0, 24.0, 15.0, 1.0, 15.0]\n",
        "\n",
        "women = [22.0, 16.0, 21.7, 21.0, 30.0, 26.0, 12.0, 23.2, 28.0, 23.0]\n",
        "\n",
        "Perform an appropriate test to check if the mean body fat percentage of men and women is statistically different.\n",
        "\n",
        "Assume the significance level to be 5%."
      ],
      "metadata": {
        "id": "dLF_-VB1zMwr"
      }
    },
    {
      "cell_type": "code",
      "source": [
        "# H0 : M = W\n",
        "# Ha : M != W\n",
        "\n",
        "men = [13.3, 6.0, 20.0, 8.0, 14.0, 19.0, 18.0, 25.0, 16.0, 24.0, 15.0, 1.0, 15.0]\n",
        "women = [22.0, 16.0, 21.7, 21.0, 30.0, 26.0, 12.0, 23.2, 28.0, 23.0]\n",
        "\n",
        "t_stat, pvalue = ttest_ind(men, women)\n",
        "print(t_stat, pvalue)\n",
        "\n",
        "alpha = 0.05\n",
        "\n",
        "if pvalue < alpha:\n",
        "  print('Reject H0')\n",
        "else:\n",
        "  print ('Fail to Reject H0')"
      ],
      "metadata": {
        "colab": {
          "base_uri": "https://localhost:8080/"
        },
        "id": "OOg0A8yNzNxO",
        "outputId": "625701d3-9dfc-4f7f-9154-b1694bdd1f43"
      },
      "execution_count": 7,
      "outputs": [
        {
          "output_type": "stream",
          "name": "stdout",
          "text": [
            "-2.799960442832919 0.010730607904197957\n",
            "Reject H0\n"
          ]
        }
      ]
    },
    {
      "cell_type": "markdown",
      "source": [
        "The quality assurance department claims that on average the non-fat milk contains more than 190 mg of Calcium per 500 ml packet.\n",
        "\n",
        "To check this claim 45 packets of milk are collected and the content of calcium is recorded.\n",
        "\n",
        "Perform an appropriate test to check the claim with a 90% confidence level.\n",
        "\n",
        "data = [193, 321, 222, 158, 176, 149, 154, 223, 233, 177, 280, 244, 138, 210, 167, 129, 254, 167, 194, 191, 128, 191, 144, 184, 330, 216, 212, 142, 216, 197, 231, 133, 205, 192, 195, 243, 224, 137, 234, 171, 176, 249, 222, 234, 191]"
      ],
      "metadata": {
        "id": "6oKdphn80rIP"
      }
    },
    {
      "cell_type": "code",
      "source": [
        "# H0 : NFM <= 190\n",
        "# Ha : NFM > 190\n",
        "\n",
        "population_mean = 190\n",
        "data = [193, 321, 222, 158, 176, 149, 154, 223, 233, 177, 280, 244, 138, 210, 167, 129, 254, 167, 194, 191, 128, 191, 144, 184, 330, 216, 212, 142, 216, 197, 231, 133, 205, 192, 195, 243, 224, 137, 234, 171, 176, 249, 222, 234, 191]\n",
        "\n",
        "t_stat, pvalue = ttest_1samp(data, population_mean, alternative = 'greater')\n",
        "print(t_stat, pvalue)\n",
        "\n",
        "alpha = 0.1\n",
        "\n",
        "if pvalue < alpha:\n",
        "  print('Reject H0')\n",
        "else:\n",
        "  print ('Fail to Reject H0')"
      ],
      "metadata": {
        "colab": {
          "base_uri": "https://localhost:8080/"
        },
        "id": "DYMgPxDK07nB",
        "outputId": "cbdd64b8-c208-415d-d9d5-035495877b29"
      },
      "execution_count": 9,
      "outputs": [
        {
          "output_type": "stream",
          "name": "stdout",
          "text": [
            "1.3689029903414232 0.08898891556150607\n",
            "Reject H0\n"
          ]
        }
      ]
    },
    {
      "cell_type": "markdown",
      "source": [
        "There are 8 females and 12 males in a coaching class.\n",
        "\n",
        "After a practice test, the coach wants to know whether the average score of females is greater than the average score of males.\n",
        "\n",
        "Given data describes the scores of females and males in his class.\n",
        "\n",
        "female_scores=[25,30,45,49,47,35,32,42]\n",
        "\n",
        "male_scores=[45,47,25,22,29,32,27,28,40,49,50,33]\n",
        "\n",
        "Use an appropriate test to check whether the assumption of the coach is significant or not, at a 2% significance level?"
      ],
      "metadata": {
        "id": "d-ESP7-m0ub5"
      }
    },
    {
      "cell_type": "code",
      "source": [
        "# H0 : M = F\n",
        "# Ha : F > M\n",
        "female_scores = [25,30,45,49,47,35,32,42]\n",
        "\n",
        "male_scores = [45,47,25,22,29,32,27,28,40,49,50,33]\n",
        "\n",
        "t_stat, pvalue = ttest_ind(female_scores, male_scores, alternative = 'greater')\n",
        "print(t_stat, pvalue)\n",
        "\n",
        "alpha = 0.02\n",
        "\n",
        "if pvalue < alpha:\n",
        "  print('Reject H0')\n",
        "else:\n",
        "  print ('Fail to Reject H0')"
      ],
      "metadata": {
        "colab": {
          "base_uri": "https://localhost:8080/"
        },
        "id": "E4b6EaxG2NzR",
        "outputId": "0cf42a84-4e3c-45c4-87d7-3ce18437a500"
      },
      "execution_count": 13,
      "outputs": [
        {
          "output_type": "stream",
          "name": "stdout",
          "text": [
            "0.5795450171026676 0.2847023809445894\n",
            "Fail to Reject H0\n"
          ]
        }
      ]
    },
    {
      "cell_type": "markdown",
      "source": [
        "An experiment was performed to compare the effectiveness of Ammonium Chloride and urea on the grain yield (in quintal per hectare) and the results are given in the arrays below:\n",
        "\n",
        "Ammonium_chloride = [13.4, 10.9, 11.2, 11.8, 14, 15.3, 14.2, 12.6, 17, 16.2, 16.5, 15.7]\n",
        "\n",
        "Urea = [12, 11.7, 10.7, 11.2, 14.8, 14.4, 13.9, 13.7, 16.9, 16, 15.6, 16]\n",
        "\n",
        "Conduct an appropriate test to compare the same with a 95% confidence level and choose the appropriate option below."
      ],
      "metadata": {
        "id": "tB5bw18L3dQj"
      }
    },
    {
      "cell_type": "code",
      "source": [
        "# H0 : A = U\n",
        "# Ha : A != U\n",
        "\n",
        "Ammonium_chloride = [13.4, 10.9, 11.2, 11.8, 14, 15.3, 14.2, 12.6, 17, 16.2, 16.5, 15.7]\n",
        "Urea = [12, 11.7, 10.7, 11.2, 14.8, 14.4, 13.9, 13.7, 16.9, 16, 15.6, 16]\n",
        "\n",
        "t_stat, pvalue = ttest_ind(Ammonium_chloride, Urea)\n",
        "print(t_stat, pvalue)\n",
        "\n",
        "alpha = 0.05\n",
        "\n",
        "if pvalue < alpha:\n",
        "  print('Reject H0')\n",
        "else:\n",
        "  print ('Fail to Reject H0')"
      ],
      "metadata": {
        "colab": {
          "base_uri": "https://localhost:8080/"
        },
        "id": "Pu_hsn073foe",
        "outputId": "f893ae03-e8de-4141-dbb3-ee76c3041c0c"
      },
      "execution_count": 15,
      "outputs": [
        {
          "output_type": "stream",
          "name": "stdout",
          "text": [
            "0.1846496543760765 0.8551954147800473\n",
            "Fail to Reject H0\n"
          ]
        }
      ]
    },
    {
      "cell_type": "markdown",
      "source": [
        "The Zumba trainer claims to the customers, that their new dance routine helps to reduce more weight.\n",
        "\n",
        "Weight of 8 people were recorded before and after following the new Zumba training for a month:\n",
        "\n",
        "wt_before = [85, 74, 63.5, 69.4, 71.6, 65,90,78]\n",
        "\n",
        "wt_after = [82, 71, 64, 65.2, 67.8, 64.7,95,77]\n",
        "\n",
        "Test the trainer's claim with 90% confidence. Further, what would be the pvalue?"
      ],
      "metadata": {
        "id": "CEWD2t0y4QnN"
      }
    },
    {
      "cell_type": "code",
      "source": [
        "# H0 : before = after\n",
        "# Ha : before > after\n",
        "\n",
        "wt_before = [85, 74, 63.5, 69.4, 71.6, 65,90,78]\n",
        "\n",
        "wt_after = [82, 71, 64, 65.2, 67.8, 64.7,95,77]\n",
        "\n",
        "statistic, pvalue = ttest_rel(wt_before,wt_after, alternative = 'greater')\n",
        "\n",
        "print(\"Test statistic:\",statistic)\n",
        "print(\"pvalue:\",pvalue)\n",
        "\n",
        "alpha = 0.1\n",
        "\n",
        "if pvalue < alpha:\n",
        "  print('Reject H0')\n",
        "else:\n",
        "  print ('Fail to Reject H0')"
      ],
      "metadata": {
        "colab": {
          "base_uri": "https://localhost:8080/"
        },
        "id": "GbNIr6w84SR1",
        "outputId": "12535af8-0eef-4004-d001-8309725ebf61"
      },
      "execution_count": 19,
      "outputs": [
        {
          "output_type": "stream",
          "name": "stdout",
          "text": [
            "Test statistic: 1.1421853793555032\n",
            "pvalue: 0.14546808501326386\n",
            "Fail to Reject H0\n"
          ]
        }
      ]
    },
    {
      "cell_type": "markdown",
      "source": [
        "You are appointed as a Data Analyst for a training program deployed by the Government of India.\n",
        "\n",
        "The participants’ skills were tested before and after the training using some metrics on a scale of 10.\n",
        "\n",
        "before = [2.45, 0.69, 1.80, 2.80, 0.07, 1.67, 2.93, 0.47, 1.45, 1.34]   \n",
        "\n",
        "after = [7.71, 2.17, 5.65, 8.79, 0.23, 5.23, 9.19, 1.49, 4.56, 4.20]\n",
        "\n",
        "Conduct an appropriate test to assess a statistically significant increase in the average skill score after the training program, and then answer the below questions accordingly.\n",
        "\n",
        "Note: Perform the test at alpha = 5%."
      ],
      "metadata": {
        "id": "2k9lajUe669N"
      }
    },
    {
      "cell_type": "code",
      "source": [
        "# H0 : before = after\n",
        "# Ha : before < after\n",
        "\n",
        "before = [2.45, 0.69, 1.80, 2.80, 0.07, 1.67, 2.93, 0.47, 1.45, 1.34]\n",
        "after = [7.71, 2.17, 5.65, 8.79, 0.23, 5.23, 9.19, 1.49, 4.56, 4.20]\n",
        "\n",
        "statistic, pvalue = ttest_rel(before,after, alternative = 'less')\n",
        "\n",
        "print(\"Test statistic:\",statistic)\n",
        "print(\"pvalue:\",pvalue)\n",
        "\n",
        "alpha = 0.95\n",
        "\n",
        "if pvalue < alpha:\n",
        "  print('Reject H0')\n",
        "else:\n",
        "  print ('Fail to Reject H0')"
      ],
      "metadata": {
        "colab": {
          "base_uri": "https://localhost:8080/"
        },
        "id": "plhqCXqm69El",
        "outputId": "bf7885d6-3e47-4cae-a927-7654e4b04689"
      },
      "execution_count": 21,
      "outputs": [
        {
          "output_type": "stream",
          "name": "stdout",
          "text": [
            "Test statistic: -5.111096450191605\n",
            "pvalue: 0.00031778119819482275\n",
            "Reject H0\n"
          ]
        }
      ]
    },
    {
      "cell_type": "markdown",
      "source": [
        "The average British man is 175.3 cm tall. A survey recorded the heights of 10 UK men and we want to know whether the mean of the sample is different from the population mean.\n",
        "\n",
        "survey_height = [177.3, 182.7, 169.6, 176.3, 180.3, 179.4, 178.5, 177.2, 181.8, 176.5]\n",
        "\n",
        "Perform an appropriate test and choose the correct option below, that we can conclude with a 5% significance."
      ],
      "metadata": {
        "id": "b1RMfiES8HJl"
      }
    },
    {
      "cell_type": "code",
      "source": [
        "# H0 : M = 175.3\n",
        "# Ha : M != 175.3\n",
        "\n",
        "population_mean = 175.3\n",
        "survey_height = [177.3, 182.7, 169.6, 176.3, 180.3, 179.4, 178.5, 177.2, 181.8, 176.5]\n",
        "\n",
        "t_stat, pvalue = ttest_1samp(survey_height, population_mean)\n",
        "print(t_stat, pvalue)\n",
        "\n",
        "alpha = 0.05\n",
        "\n",
        "if pvalue < alpha:\n",
        "  print('Reject H0')"
      ],
      "metadata": {
        "colab": {
          "base_uri": "https://localhost:8080/"
        },
        "id": "Tzd3uSjk8KLi",
        "outputId": "bfc31502-a020-4db4-ad78-8b22f4ce0206"
      },
      "execution_count": 23,
      "outputs": [
        {
          "output_type": "stream",
          "name": "stdout",
          "text": [
            "2.295568968083183 0.04734137339747034\n",
            "Reject H0\n"
          ]
        }
      ]
    },
    {
      "cell_type": "markdown",
      "source": [
        "Samples of IQ scores are collected from two competing schools, as follows:\n",
        "\n",
        "school_1 = [115, 111, 112, 101, 95, 98, 100, 90, 89, 108]\n",
        "\n",
        "school_2 = [107, 103, 91, 99, 104, 98, 117, 113, 92, 96, 108, 115, 116, 88]\n",
        "\n",
        "Perform an appropriate test with a 5% significance level to check if there is any statistically significant difference in the mean IQ's of these schools."
      ],
      "metadata": {
        "id": "Pf0uvmfl9QuW"
      }
    },
    {
      "cell_type": "code",
      "source": [
        "school_1 = [115, 111, 112, 101, 95, 98, 100, 90, 89, 108]\n",
        "school_2 = [107, 103, 91, 99, 104, 98, 117, 113, 92, 96, 108, 115, 116, 88]\n",
        "\n",
        "t_stat, pvalue = ttest_ind(school_1, school_2)\n",
        "print(t_stat, pvalue)\n",
        "\n",
        "alpha = 0.05\n",
        "\n",
        "if pvalue < alpha:\n",
        "  print('Reject H0')\n",
        "else:\n",
        "  print ('Fail to Reject H0')"
      ],
      "metadata": {
        "colab": {
          "base_uri": "https://localhost:8080/"
        },
        "id": "EZ3dNin29SqS",
        "outputId": "dde8b955-8bc9-437c-9a28-ae76754b0064"
      },
      "execution_count": 25,
      "outputs": [
        {
          "output_type": "stream",
          "name": "stdout",
          "text": [
            "-0.36928503344341035 0.7154458095186707\n",
            "Fail to Reject H0\n"
          ]
        }
      ]
    }
  ]
}